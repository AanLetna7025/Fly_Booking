{
  "nbformat": 4,
  "nbformat_minor": 0,
  "metadata": {
    "colab": {
      "provenance": [],
      "gpuType": "T4",
      "collapsed_sections": [
        "dE3IQHOcZRdx"
      ],
      "authorship_tag": "ABX9TyOIifazpXZpLVzY4eZI4EKX",
      "include_colab_link": true
    },
    "kernelspec": {
      "name": "python3",
      "display_name": "Python 3"
    },
    "language_info": {
      "name": "python"
    },
    "accelerator": "GPU"
  },
  "cells": [
    {
      "cell_type": "markdown",
      "metadata": {
        "id": "view-in-github",
        "colab_type": "text"
      },
      "source": [
        "<a href=\"https://colab.research.google.com/github/AanLetna7025/Fly_Booking/blob/main/FlyTicketBooking.ipynb\" target=\"_parent\"><img src=\"https://colab.research.google.com/assets/colab-badge.svg\" alt=\"Open In Colab\"/></a>"
      ]
    },
    {
      "cell_type": "code",
      "source": [
        "!pip install langchain_google_genai langchain_core typing langgraph"
      ],
      "metadata": {
        "collapsed": true,
        "colab": {
          "base_uri": "https://localhost:8080/"
        },
        "id": "6NrtrYgQu5GP",
        "outputId": "e89d1637-3ec3-48d3-c628-7a694a6565e0"
      },
      "execution_count": 2,
      "outputs": [
        {
          "output_type": "stream",
          "name": "stdout",
          "text": [
            "Requirement already satisfied: langchain_google_genai in /usr/local/lib/python3.12/dist-packages (2.1.12)\n",
            "Requirement already satisfied: langchain_core in /usr/local/lib/python3.12/dist-packages (0.3.76)\n",
            "Requirement already satisfied: typing in /usr/local/lib/python3.12/dist-packages (3.7.4.3)\n",
            "Requirement already satisfied: langgraph in /usr/local/lib/python3.12/dist-packages (0.6.7)\n",
            "Requirement already satisfied: google-ai-generativelanguage<1,>=0.7 in /usr/local/lib/python3.12/dist-packages (from langchain_google_genai) (0.7.0)\n",
            "Requirement already satisfied: pydantic<3,>=2 in /usr/local/lib/python3.12/dist-packages (from langchain_google_genai) (2.11.9)\n",
            "Requirement already satisfied: filetype<2,>=1.2 in /usr/local/lib/python3.12/dist-packages (from langchain_google_genai) (1.2.0)\n",
            "Requirement already satisfied: langsmith>=0.3.45 in /usr/local/lib/python3.12/dist-packages (from langchain_core) (0.4.28)\n",
            "Requirement already satisfied: tenacity!=8.4.0,<10.0.0,>=8.1.0 in /usr/local/lib/python3.12/dist-packages (from langchain_core) (8.5.0)\n",
            "Requirement already satisfied: jsonpatch<2.0,>=1.33 in /usr/local/lib/python3.12/dist-packages (from langchain_core) (1.33)\n",
            "Requirement already satisfied: PyYAML>=5.3 in /usr/local/lib/python3.12/dist-packages (from langchain_core) (6.0.2)\n",
            "Requirement already satisfied: typing-extensions>=4.7 in /usr/local/lib/python3.12/dist-packages (from langchain_core) (4.15.0)\n",
            "Requirement already satisfied: packaging>=23.2 in /usr/local/lib/python3.12/dist-packages (from langchain_core) (25.0)\n",
            "Requirement already satisfied: langgraph-checkpoint<3.0.0,>=2.1.0 in /usr/local/lib/python3.12/dist-packages (from langgraph) (2.1.1)\n",
            "Requirement already satisfied: langgraph-prebuilt<0.7.0,>=0.6.0 in /usr/local/lib/python3.12/dist-packages (from langgraph) (0.6.4)\n",
            "Requirement already satisfied: langgraph-sdk<0.3.0,>=0.2.2 in /usr/local/lib/python3.12/dist-packages (from langgraph) (0.2.9)\n",
            "Requirement already satisfied: xxhash>=3.5.0 in /usr/local/lib/python3.12/dist-packages (from langgraph) (3.5.0)\n",
            "Requirement already satisfied: google-api-core!=2.0.*,!=2.1.*,!=2.10.*,!=2.2.*,!=2.3.*,!=2.4.*,!=2.5.*,!=2.6.*,!=2.7.*,!=2.8.*,!=2.9.*,<3.0.0,>=1.34.1 in /usr/local/lib/python3.12/dist-packages (from google-api-core[grpc]!=2.0.*,!=2.1.*,!=2.10.*,!=2.2.*,!=2.3.*,!=2.4.*,!=2.5.*,!=2.6.*,!=2.7.*,!=2.8.*,!=2.9.*,<3.0.0,>=1.34.1->google-ai-generativelanguage<1,>=0.7->langchain_google_genai) (2.25.1)\n",
            "Requirement already satisfied: google-auth!=2.24.0,!=2.25.0,<3.0.0,>=2.14.1 in /usr/local/lib/python3.12/dist-packages (from google-ai-generativelanguage<1,>=0.7->langchain_google_genai) (2.38.0)\n",
            "Requirement already satisfied: proto-plus<2.0.0,>=1.22.3 in /usr/local/lib/python3.12/dist-packages (from google-ai-generativelanguage<1,>=0.7->langchain_google_genai) (1.26.1)\n",
            "Requirement already satisfied: protobuf!=4.21.0,!=4.21.1,!=4.21.2,!=4.21.3,!=4.21.4,!=4.21.5,<7.0.0,>=3.20.2 in /usr/local/lib/python3.12/dist-packages (from google-ai-generativelanguage<1,>=0.7->langchain_google_genai) (5.29.5)\n",
            "Requirement already satisfied: jsonpointer>=1.9 in /usr/local/lib/python3.12/dist-packages (from jsonpatch<2.0,>=1.33->langchain_core) (3.0.0)\n",
            "Requirement already satisfied: ormsgpack>=1.10.0 in /usr/local/lib/python3.12/dist-packages (from langgraph-checkpoint<3.0.0,>=2.1.0->langgraph) (1.10.0)\n",
            "Requirement already satisfied: httpx>=0.25.2 in /usr/local/lib/python3.12/dist-packages (from langgraph-sdk<0.3.0,>=0.2.2->langgraph) (0.28.1)\n",
            "Requirement already satisfied: orjson>=3.10.1 in /usr/local/lib/python3.12/dist-packages (from langgraph-sdk<0.3.0,>=0.2.2->langgraph) (3.11.3)\n",
            "Requirement already satisfied: requests-toolbelt>=1.0.0 in /usr/local/lib/python3.12/dist-packages (from langsmith>=0.3.45->langchain_core) (1.0.0)\n",
            "Requirement already satisfied: requests>=2.0.0 in /usr/local/lib/python3.12/dist-packages (from langsmith>=0.3.45->langchain_core) (2.32.4)\n",
            "Requirement already satisfied: zstandard>=0.23.0 in /usr/local/lib/python3.12/dist-packages (from langsmith>=0.3.45->langchain_core) (0.25.0)\n",
            "Requirement already satisfied: annotated-types>=0.6.0 in /usr/local/lib/python3.12/dist-packages (from pydantic<3,>=2->langchain_google_genai) (0.7.0)\n",
            "Requirement already satisfied: pydantic-core==2.33.2 in /usr/local/lib/python3.12/dist-packages (from pydantic<3,>=2->langchain_google_genai) (2.33.2)\n",
            "Requirement already satisfied: typing-inspection>=0.4.0 in /usr/local/lib/python3.12/dist-packages (from pydantic<3,>=2->langchain_google_genai) (0.4.1)\n",
            "Requirement already satisfied: googleapis-common-protos<2.0.0,>=1.56.2 in /usr/local/lib/python3.12/dist-packages (from google-api-core!=2.0.*,!=2.1.*,!=2.10.*,!=2.2.*,!=2.3.*,!=2.4.*,!=2.5.*,!=2.6.*,!=2.7.*,!=2.8.*,!=2.9.*,<3.0.0,>=1.34.1->google-api-core[grpc]!=2.0.*,!=2.1.*,!=2.10.*,!=2.2.*,!=2.3.*,!=2.4.*,!=2.5.*,!=2.6.*,!=2.7.*,!=2.8.*,!=2.9.*,<3.0.0,>=1.34.1->google-ai-generativelanguage<1,>=0.7->langchain_google_genai) (1.70.0)\n",
            "Requirement already satisfied: grpcio<2.0.0,>=1.33.2 in /usr/local/lib/python3.12/dist-packages (from google-api-core[grpc]!=2.0.*,!=2.1.*,!=2.10.*,!=2.2.*,!=2.3.*,!=2.4.*,!=2.5.*,!=2.6.*,!=2.7.*,!=2.8.*,!=2.9.*,<3.0.0,>=1.34.1->google-ai-generativelanguage<1,>=0.7->langchain_google_genai) (1.75.0)\n",
            "Requirement already satisfied: grpcio-status<2.0.0,>=1.33.2 in /usr/local/lib/python3.12/dist-packages (from google-api-core[grpc]!=2.0.*,!=2.1.*,!=2.10.*,!=2.2.*,!=2.3.*,!=2.4.*,!=2.5.*,!=2.6.*,!=2.7.*,!=2.8.*,!=2.9.*,<3.0.0,>=1.34.1->google-ai-generativelanguage<1,>=0.7->langchain_google_genai) (1.71.2)\n",
            "Requirement already satisfied: cachetools<6.0,>=2.0.0 in /usr/local/lib/python3.12/dist-packages (from google-auth!=2.24.0,!=2.25.0,<3.0.0,>=2.14.1->google-ai-generativelanguage<1,>=0.7->langchain_google_genai) (5.5.2)\n",
            "Requirement already satisfied: pyasn1-modules>=0.2.1 in /usr/local/lib/python3.12/dist-packages (from google-auth!=2.24.0,!=2.25.0,<3.0.0,>=2.14.1->google-ai-generativelanguage<1,>=0.7->langchain_google_genai) (0.4.2)\n",
            "Requirement already satisfied: rsa<5,>=3.1.4 in /usr/local/lib/python3.12/dist-packages (from google-auth!=2.24.0,!=2.25.0,<3.0.0,>=2.14.1->google-ai-generativelanguage<1,>=0.7->langchain_google_genai) (4.9.1)\n",
            "Requirement already satisfied: anyio in /usr/local/lib/python3.12/dist-packages (from httpx>=0.25.2->langgraph-sdk<0.3.0,>=0.2.2->langgraph) (4.10.0)\n",
            "Requirement already satisfied: certifi in /usr/local/lib/python3.12/dist-packages (from httpx>=0.25.2->langgraph-sdk<0.3.0,>=0.2.2->langgraph) (2025.8.3)\n",
            "Requirement already satisfied: httpcore==1.* in /usr/local/lib/python3.12/dist-packages (from httpx>=0.25.2->langgraph-sdk<0.3.0,>=0.2.2->langgraph) (1.0.9)\n",
            "Requirement already satisfied: idna in /usr/local/lib/python3.12/dist-packages (from httpx>=0.25.2->langgraph-sdk<0.3.0,>=0.2.2->langgraph) (3.10)\n",
            "Requirement already satisfied: h11>=0.16 in /usr/local/lib/python3.12/dist-packages (from httpcore==1.*->httpx>=0.25.2->langgraph-sdk<0.3.0,>=0.2.2->langgraph) (0.16.0)\n",
            "Requirement already satisfied: charset_normalizer<4,>=2 in /usr/local/lib/python3.12/dist-packages (from requests>=2.0.0->langsmith>=0.3.45->langchain_core) (3.4.3)\n",
            "Requirement already satisfied: urllib3<3,>=1.21.1 in /usr/local/lib/python3.12/dist-packages (from requests>=2.0.0->langsmith>=0.3.45->langchain_core) (2.5.0)\n",
            "Requirement already satisfied: pyasn1<0.7.0,>=0.6.1 in /usr/local/lib/python3.12/dist-packages (from pyasn1-modules>=0.2.1->google-auth!=2.24.0,!=2.25.0,<3.0.0,>=2.14.1->google-ai-generativelanguage<1,>=0.7->langchain_google_genai) (0.6.1)\n",
            "Requirement already satisfied: sniffio>=1.1 in /usr/local/lib/python3.12/dist-packages (from anyio->httpx>=0.25.2->langgraph-sdk<0.3.0,>=0.2.2->langgraph) (1.3.1)\n"
          ]
        }
      ]
    },
    {
      "cell_type": "code",
      "source": [
        "import os\n",
        "import csv\n",
        "import uuid\n",
        "from datetime import datetime\n",
        "from typing import TypedDict\n",
        "from google.colab import userdata\n",
        "from langgraph.graph import StateGraph, END\n",
        "from langchain_google_genai import ChatGoogleGenerativeAI\n",
        "import google.generativeai as genai"
      ],
      "metadata": {
        "id": "F_OANmiYWsjA"
      },
      "execution_count": 4,
      "outputs": []
    },
    {
      "cell_type": "code",
      "source": [
        "api_key = userdata.get('gemini_key')\n",
        "genai.configure(api_key=api_key)\n",
        "model = ChatGoogleGenerativeAI(model=\"gemini-2.5-flash\", google_api_key=api_key)\n",
        "\n",
        "# Folder & CSV path\n",
        "folder = \"/content/data\"\n",
        "os.makedirs(folder, exist_ok=True)\n",
        "file_path = os.path.join(folder, \"bookings.csv\")\n",
        "\n",
        "# Typed State\n",
        "class BookingState(TypedDict, total=False):\n",
        "    action: str\n",
        "    name: str\n",
        "    origin: str\n",
        "    destination: str\n",
        "    date: str   # YYYY-MM-DD\n",
        "    ticket_id: str\n"
      ],
      "metadata": {
        "id": "N4Hu9tQ0X_ha"
      },
      "execution_count": null,
      "outputs": []
    },
    {
      "cell_type": "code",
      "source": [
        "print(\"\\n📄 Contents of bookings.csv:\")\n",
        "!cat /content/data/bookings.csv"
      ],
      "metadata": {
        "colab": {
          "base_uri": "https://localhost:8080/"
        },
        "id": "gPTY2FOyYdRp",
        "outputId": "b358123d-dfdd-49e4-890f-58c700ea7e41"
      },
      "execution_count": 7,
      "outputs": [
        {
          "output_type": "stream",
          "name": "stdout",
          "text": [
            "\n",
            "📄 Contents of bookings.csv:\n",
            "Ticket ID,Name,Origin,Destination,Date\r\n",
            "7feeac54,tina,dubai,oman,2025-08-03\r\n"
          ]
        }
      ]
    },
    {
      "cell_type": "code",
      "source": [
        "\n",
        "# Helpers\n",
        "def ensure_csv_header() -> None:\n",
        "    if not os.path.isfile(file_path) or os.path.getsize(file_path) == 0:\n",
        "        with open(file_path, \"w\", newline=\"\") as f:\n",
        "            writer = csv.writer(f)\n",
        "            writer.writerow([\"Ticket ID\", \"Name\", \"Origin\", \"Destination\", \"Date\"])\n",
        "\n",
        "def valid_date(s: str) -> bool:\n",
        "    try:\n",
        "        datetime.strptime(s, \"%Y-%m-%d\")\n",
        "        return True\n",
        "    except Exception:\n",
        "        return False\n",
        "\n",
        "def generate_ticket_id() -> str:\n",
        "    return str(uuid.uuid4())[:8]\n",
        "\n",
        "#  Nodes\n",
        "def save_booking(state: BookingState) -> BookingState:\n",
        "    ensure_csv_header()\n",
        "    ticket_id = state.get(\"ticket_id\") or generate_ticket_id()\n",
        "    state[\"ticket_id\"] = ticket_id\n",
        "\n",
        "    name = state.get(\"name\", \"\")\n",
        "    origin = state.get(\"origin\", \"\")\n",
        "    destination = state.get(\"destination\", \"\")\n",
        "    date = state.get(\"date\", \"\")\n",
        "\n",
        "    with open(file_path, mode=\"a\", newline=\"\") as file:\n",
        "        writer = csv.writer(file)\n",
        "        writer.writerow([ticket_id, name, origin, destination, date])\n",
        "\n",
        "    print(f\"\\n✅ Booking saved! Ticket ID: {ticket_id}\")\n",
        "    return state\n",
        "\n",
        "def delete_ticket(state: BookingState) -> BookingState:\n",
        "    ensure_csv_header()\n",
        "    ticket_id = state.get(\"ticket_id\")\n",
        "    if not ticket_id:\n",
        "        ticket_id = input(\"Enter Ticket ID to delete: \").strip()\n",
        "\n",
        "    rows, deleted = [], False\n",
        "    with open(file_path, mode=\"r\", newline=\"\") as file:\n",
        "        reader = csv.reader(file)\n",
        "        try:\n",
        "            header = next(reader)\n",
        "        except StopIteration:\n",
        "            print(\"❌ CSV is empty.\")\n",
        "            return state\n",
        "        for row in reader:\n",
        "            if row and row[0] != ticket_id:\n",
        "                rows.append(row)\n",
        "            else:\n",
        "                deleted = True\n",
        "\n",
        "    with open(file_path, mode=\"w\", newline=\"\") as file:\n",
        "        writer = csv.writer(file)\n",
        "        writer.writerow(header)\n",
        "        writer.writerows(rows)\n",
        "\n",
        "    if deleted:\n",
        "        print(f\"🗑️ Ticket {ticket_id} deleted.\")\n",
        "    else:\n",
        "        print(\"❌ Ticket not found.\")\n",
        "    return state\n",
        "\n",
        "def list_bookings(state: BookingState) -> BookingState:\n",
        "    if not os.path.isfile(file_path) or os.path.getsize(file_path) == 0:\n",
        "        print(\"\\n📄 No bookings yet.\")\n",
        "        return state\n",
        "    print(\"\\n📋 Current bookings:\")\n",
        "    with open(file_path, mode=\"r\", newline=\"\") as file:\n",
        "        reader = csv.reader(file)\n",
        "        for i, row in enumerate(reader):\n",
        "            print(\", \".join(row) if i > 0 else \" | \".join(row))\n",
        "    return state\n",
        "\n",
        "def booking_node(state: BookingState) -> BookingState:\n",
        "    state[\"name\"] = state.get(\"name\") or input(\"Name: \").strip()\n",
        "    state[\"origin\"] = state.get(\"origin\") or input(\"Origin: \").strip()\n",
        "    state[\"destination\"] = state.get(\"destination\") or input(\"Destination: \").strip()\n",
        "\n",
        "    if not state.get(\"date\"):\n",
        "        while True:\n",
        "            d = input(\"Date (YYYY-MM-DD): \").strip()\n",
        "            if valid_date(d):\n",
        "                state[\"date\"] = d\n",
        "                break\n",
        "            else:\n",
        "                print(\"❗ Invalid date format, try again.\")\n",
        "    return save_booking(state)\n",
        "\n",
        "def deletion_node(state: BookingState) -> BookingState:\n",
        "    return delete_ticket(state)\n",
        "\n",
        "def router_node(state: BookingState) -> BookingState:\n",
        "    action = (state.get(\"action\") or \"\").strip().lower()\n",
        "    state[\"action\"] = action\n",
        "    return state\n",
        "\n",
        "def finish_node(state: BookingState) -> BookingState:\n",
        "    print(\"\\n✅ Process finished.\")\n",
        "    return state\n",
        "\n",
        "# graph\n",
        "graph = StateGraph(BookingState)\n",
        "graph.add_node(\"router\", router_node)\n",
        "graph.add_node(\"book_ticket\", booking_node)\n",
        "graph.add_node(\"delete_ticket\", deletion_node)\n",
        "graph.add_node(\"list_bookings\", list_bookings)\n",
        "graph.add_node(\"finish\", finish_node)\n",
        "\n",
        "graph.add_edge(\"__start__\", \"router\")\n",
        "graph.add_conditional_edges(\"router\", lambda s: s.get(\"action\"), {\n",
        "    \"book\": \"book_ticket\",\n",
        "    \"delete\": \"delete_ticket\",\n",
        "    \"list\": \"list_bookings\"\n",
        "})\n",
        "graph.add_edge(\"book_ticket\", \"finish\")\n",
        "graph.add_edge(\"delete_ticket\", \"finish\")\n",
        "graph.add_edge(\"list_bookings\", \"finish\")\n",
        "graph.add_edge(\"finish\", END)\n",
        "\n",
        "app = graph.compile()\n",
        "\n",
        "\n",
        "def call_compiled_graph(compiled, state: BookingState):\n",
        "    for name in (\"run\", \"execute\", \"start\", \"invoke\", \"__call__\"):\n",
        "        if hasattr(compiled, name):\n",
        "            return getattr(compiled, name)(state)\n",
        "    if hasattr(compiled, \"call\"):\n",
        "        return compiled.call(state)\n",
        "    raise RuntimeError(\"No runnable method found on compiled graph.\")\n"
      ],
      "metadata": {
        "id": "0jIGd671X2wT"
      },
      "execution_count": null,
      "outputs": []
    },
    {
      "cell_type": "code",
      "source": [
        "from IPython.display import display, Image\n",
        "display(Image(app.get_graph().draw_mermaid_png()))"
      ],
      "metadata": {
        "colab": {
          "base_uri": "https://localhost:8080/",
          "height": 473
        },
        "id": "JWbTyN6WYMhB",
        "outputId": "c272fc3c-4358-4ac9-aea3-d468f84300e7"
      },
      "execution_count": 6,
      "outputs": [
        {
          "output_type": "display_data",
          "data": {
            "image/png": "[encoded data removed]",
            "text/plain": [
              "<IPython.core.display.Image object>"
            ]
          },
          "metadata": {}
        }
      ]
    },
    {
      "cell_type": "code",
      "source": [
        "\n",
        "# CLI\n",
        "def main_cli():\n",
        "    print(\"=== Flight Ticket Booking (Gemini + LangGraph) ===\")\n",
        "    while True:\n",
        "        action = input(\"\\nEnter action (book/delete/list/exit): \").strip().lower()\n",
        "        if action == \"exit\":\n",
        "            print(\"👋 Goodbye!\")\n",
        "            break\n",
        "        init_state: BookingState = {\"action\": action}\n",
        "        try:\n",
        "            result = call_compiled_graph(app, init_state)\n",
        "            print(\"Result:\", result)\n",
        "        except Exception as e:\n",
        "            print(\"🚨 Error:\", e)\n",
        "\n",
        "if __name__ == \"__main__\":\n",
        "    main_cli()\n"
      ],
      "metadata": {
        "colab": {
          "base_uri": "https://localhost:8080/"
        },
        "id": "C8fm782ZNlzA",
        "outputId": "8540946e-e7dd-4066-c75d-cddc4257d54c"
      },
      "execution_count": 5,
      "outputs": [
        {
          "output_type": "stream",
          "name": "stdout",
          "text": [
            "=== Flight Ticket Booking (Gemini + LangGraph) ===\n",
            "\n",
            "Enter action (book/delete/list/exit): list\n",
            "\n",
            "📄 No bookings yet.\n",
            "\n",
            "✅ Process finished.\n",
            "Result: {'action': 'list'}\n",
            "\n",
            "Enter action (book/delete/list/exit): book\n",
            "Name: tina\n",
            "Origin: dubai\n",
            "Destination: oman\n",
            "Date (YYYY-MM-DD): 2025-08-03\n",
            "\n",
            "✅ Booking saved! Ticket ID: 7feeac54\n",
            "\n",
            "✅ Process finished.\n",
            "Result: {'action': 'book', 'name': 'tina', 'origin': 'dubai', 'destination': 'oman', 'date': '2025-08-03', 'ticket_id': '7feeac54'}\n",
            "\n",
            "Enter action (book/delete/list/exit): book\n",
            "Name: jeena\n",
            "Origin: kochi\n",
            "Destination: banglore\n",
            "Date (YYYY-MM-DD): 2025-09-04\n",
            "\n",
            "✅ Booking saved! Ticket ID: 1cc100a5\n",
            "\n",
            "✅ Process finished.\n",
            "Result: {'action': 'book', 'name': 'jeena', 'origin': 'kochi', 'destination': 'banglore', 'date': '2025-09-04', 'ticket_id': '1cc100a5'}\n",
            "\n",
            "Enter action (book/delete/list/exit): list\n",
            "\n",
            "📋 Current bookings:\n",
            "Ticket ID | Name | Origin | Destination | Date\n",
            "7feeac54, tina, dubai, oman, 2025-08-03\n",
            "1cc100a5, jeena, kochi, banglore, 2025-09-04\n",
            "\n",
            "✅ Process finished.\n",
            "Result: {'action': 'list'}\n",
            "\n",
            "Enter action (book/delete/list/exit): list\n",
            "\n",
            "📋 Current bookings:\n",
            "Ticket ID | Name | Origin | Destination | Date\n",
            "7feeac54, tina, dubai, oman, 2025-08-03\n",
            "1cc100a5, jeena, kochi, banglore, 2025-09-04\n",
            "\n",
            "✅ Process finished.\n",
            "Result: {'action': 'list'}\n",
            "\n",
            "Enter action (book/delete/list/exit): delete\n",
            "Enter Ticket ID to delete: 1cc100a5\n",
            "🗑️ Ticket 1cc100a5 deleted.\n",
            "\n",
            "✅ Process finished.\n",
            "Result: {'action': 'delete'}\n",
            "\n",
            "Enter action (book/delete/list/exit): list\n",
            "\n",
            "📋 Current bookings:\n",
            "Ticket ID | Name | Origin | Destination | Date\n",
            "7feeac54, tina, dubai, oman, 2025-08-03\n",
            "\n",
            "✅ Process finished.\n",
            "Result: {'action': 'list'}\n",
            "\n",
            "Enter action (book/delete/list/exit): exit\n",
            "👋 Goodbye!\n"
          ]
        }
      ]
    }
  ]
}